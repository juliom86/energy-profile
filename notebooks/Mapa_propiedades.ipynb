{
 "cells": [
  {
   "cell_type": "code",
   "execution_count": null,
   "id": "ac265be8",
   "metadata": {},
   "outputs": [],
   "source": [
    "import pandas as pd\n",
    "import geopandas as gpd\n",
    "import folium"
   ]
  },
  {
   "cell_type": "code",
   "execution_count": null,
   "id": "82c5b1a7",
   "metadata": {},
   "outputs": [],
   "source": [
    "zipfile = \"https://dnsg.ign.gob.ar/apps/api/v1/capas-sig/Geodesia+y+demarcaci%C3%B3n/L%C3%ADmites/provincia/json\"\n",
    "states = gpd.read_file(zipfile)\n",
    "sates = states[['nam', 'geometry']]\n",
    "df_c = pd.read_excel('../datasets/cant_centr_prov_pobl_consumo_modificado.xlsx')\n",
    "df_definitivo = sates.merge(df_c, left_on=\"nam\", right_on=\"Provincia\", how=\"outer\") \n"
   ]
  },
  {
   "cell_type": "code",
   "execution_count": null,
   "id": "9382a319",
   "metadata": {},
   "outputs": [],
   "source": [
    "df_definitivo.head()"
   ]
  },
  {
   "cell_type": "code",
   "execution_count": null,
   "id": "b37524b1",
   "metadata": {},
   "outputs": [],
   "source": [
    "m = folium.Map(location=[-34.61315, -58.37723], zoom_start = 4)"
   ]
  },
  {
   "cell_type": "code",
   "execution_count": null,
   "id": "b5e29884",
   "metadata": {},
   "outputs": [],
   "source": [
    "style_function = lambda x: {'fillColor': '#ffffff', \n",
    "                            'color':'#000000', \n",
    "                            'fillOpacity': 0.1, \n",
    "                            'weight': 0.1}\n",
    "highlight_function = lambda x: {'fillColor': '#000000', \n",
    "                                'color':'#000000', \n",
    "                                'fillOpacity': 0.50, \n",
    "                                'weight': 0.1}\n",
    "datos = folium.features.GeoJson(\n",
    "                    data=df_definitivo,\n",
    "                    \n",
    "                    style_function=style_function, \n",
    "                    control=False,\n",
    "                    highlight_function=highlight_function,\n",
    "                    tooltip=folium.features.GeoJsonTooltip(\n",
    "                        fields=['Provincia',\n",
    "                                'Nro_de_centrales',\n",
    "                                'Población_2020',\n",
    "                                'Consumo_total_por_población_provincia_GW','TERMICA', 'EOLICA', 'HIDRAULICA', 'NUCLEAR', 'RENOVABLES,'\n",
    "                               ],\n",
    "                        aliases=['Provincia',\n",
    "                                'Nro de centrales',\n",
    "                                'Población 2020',\n",
    "                                 'Consumo total por población provincia GW','TERMICA', 'EOLICA', 'HIDRAULICA', 'NUCLEAR', 'RENOVABLES'\n",
    "                                ], \n",
    "                        \n",
    "                        style=(\"background-color: white; color: #333333; font-family: arial; font-size: 12px; padding: 10px;\")))\n",
    "\n",
    "\n",
    "\n",
    "m.add_child(datos)"
   ]
  },
  {
   "cell_type": "code",
   "execution_count": null,
   "id": "a68e12a5",
   "metadata": {},
   "outputs": [],
   "source": []
  }
 ],
 "metadata": {
  "kernelspec": {
   "display_name": "Python 3 (ipykernel)",
   "language": "python",
   "name": "python3"
  },
  "language_info": {
   "codemirror_mode": {
    "name": "ipython",
    "version": 3
   },
   "file_extension": ".py",
   "mimetype": "text/x-python",
   "name": "python",
   "nbconvert_exporter": "python",
   "pygments_lexer": "ipython3",
   "version": "3.8.6"
  },
  "toc": {
   "base_numbering": 1,
   "nav_menu": {},
   "number_sections": true,
   "sideBar": true,
   "skip_h1_title": false,
   "title_cell": "Table of Contents",
   "title_sidebar": "Contents",
   "toc_cell": false,
   "toc_position": {},
   "toc_section_display": true,
   "toc_window_display": false
  }
 },
 "nbformat": 4,
 "nbformat_minor": 5
}

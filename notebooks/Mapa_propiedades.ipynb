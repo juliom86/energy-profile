{
 "cells": [
  {
   "cell_type": "code",
   "execution_count": null,
   "id": "ac265be8",
   "metadata": {},
   "outputs": [],
   "source": [
    "import pandas as pd\n",
    "import geopandas as gpd\n",
    "import folium\n",
    "import altair as alt"
   ]
  },
  {
   "cell_type": "code",
   "execution_count": null,
   "id": "82c5b1a7",
   "metadata": {},
   "outputs": [],
   "source": [
    "zipfile = \"https://dnsg.ign.gob.ar/apps/api/v1/capas-sig/Geodesia+y+demarcaci%C3%B3n/L%C3%ADmites/provincia/json\"\n",
    "states = gpd.read_file(zipfile)\n",
    "sates = states[['nam', 'geometry']]\n",
    "df_c = pd.read_excel('../datasets/cant_centr_prov_pobl_consumo_modificado.xlsx')\n",
    "df_definitivo = sates.merge(df_c, left_on=\"nam\", right_on=\"Provincia\", how=\"outer\") \n"
   ]
  },
  {
   "cell_type": "code",
   "execution_count": null,
   "id": "9382a319",
   "metadata": {},
   "outputs": [],
   "source": [
    "df_definitivo.head()"
   ]
  },
  {
   "cell_type": "code",
   "execution_count": null,
   "id": "b37524b1",
   "metadata": {},
   "outputs": [],
   "source": [
    "m = folium.Map(location=[-34.61315, -58.37723], zoom_start = 4)"
   ]
  },
  {
   "cell_type": "code",
   "execution_count": null,
   "id": "5f5819fd",
   "metadata": {},
   "outputs": [],
   "source": [
    "df_fact= pd.read_csv('../datasets/fact_prov.csv')\n",
    "df_pot_inst = pd.read_csv('../datasets/pot_inst.csv')\n",
    "df_coord = pd.read_csv('../datasets/provincias.csv')"
   ]
  },
  {
   "cell_type": "code",
   "execution_count": null,
   "id": "03d92801",
   "metadata": {},
   "outputs": [],
   "source": [
    " def generar_marker(state):\n",
    "        \n",
    "        df_f=df_fact[df_fact['Provincia'] == state]\n",
    "        \n",
    "        categoria = ['Residencial', 'Comercial', 'Industrial', 'Saniratios', 'Alumbrado', \n",
    "                     'Oficial', 'Rural', 'Otros', 'Traccion']\n",
    "        \n",
    "        valores = [df_f.Residencial.sum(), df_f.Comercial.sum(), df_f.Industrial.sum(), \n",
    "                   df_f['S. Sanitarios'].sum(),df_f.Riego.sum(), df_f.Oficial.sum(), \n",
    "                   df_f['E. Rural'].sum(), df_f.Otros.sum(), df_f['Tracción'].sum()]\n",
    "        \n",
    "        tipos_df = pd.DataFrame({'zonas':categoria,\n",
    "                        'Mwh Facturado':valores})\n",
    "        \n",
    "        df_pot = df_pot_inst[df_pot_inst['Provincia']== state]\n",
    "        \n",
    "        plantas = ['Ciclo_conbinado', 'Motor_Diesel', 'Turbina_Gas', 'Turbina_Vapor', \n",
    "           'Hidraulica', 'Nuclear', 'GeoTerm', 'Eolica', 'Solar']\n",
    "        \n",
    "        energia = [df_pot.Ciclo_conbinado.sum(), df_pot.Motor_Diesel.sum(), df_pot.Turbina_Gas.sum(),\n",
    "          df_pot.Turbina_Vapor.sum(), df_pot.Hidraulica.sum(), df_pot.Nuclear.sum(), df_pot.GeoTerm.sum(),\n",
    "           df_pot.Eolica.sum(), df_pot.Solar.sum()]\n",
    "        \n",
    "        tipos_pot_df = pd.DataFrame({'plantas':plantas,\n",
    "                        'energia':energia})\n",
    "        \n",
    "        \n",
    "        fig1 = alt.Chart(df_f).mark_line().encode(x='Año',y='Total').properties(width=150,height=150)\n",
    "        fig2 =alt.Chart(tipos_df).mark_bar().encode(x='Mwh Facturado',y='zonas').properties(width=150,height=150)\n",
    "        fig3 = alt.Chart(df_pot).mark_line().encode(x='Año',y='Potencia Total').properties(width=150,height=150)\n",
    "        fig4 =alt.Chart(tipos_pot_df).mark_bar().encode(x='plantas',y='energia').properties(width=150,height=150)\n",
    "        \n",
    "        prov = df_coord[df_coord['iso_nombre']==state]\n",
    "        lat = prov['latitud']\n",
    "        lon = prov['longitud']\n",
    "        \n",
    "        marker = folium.Marker(\n",
    "                location=[lat, lon],\n",
    "                popup=folium.Popup(max_width=500).add_child(\n",
    "                folium.VegaLite(fig1 & fig2 | fig3 & fig4 )),)\n",
    "        return marker"
   ]
  },
  {
   "cell_type": "code",
   "execution_count": null,
   "id": "5219a8ee",
   "metadata": {},
   "outputs": [],
   "source": [
    "generar_marker('Capital Federal').add_to(m)\n",
    "generar_marker('Buenos Aires').add_to(m)\n",
    "generar_marker('Córdoba').add_to(m)\n",
    "generar_marker('Catamarca').add_to(m)\n",
    "generar_marker('Chaco').add_to(m)\n",
    "generar_marker('Chubut').add_to(m)\n",
    "generar_marker('Corrientes').add_to(m)\n",
    "generar_marker('Entre Ríos').add_to(m)\n",
    "generar_marker('Formosa').add_to(m)\n",
    "generar_marker('Jujuy').add_to(m)\n",
    "generar_marker('La Pampa').add_to(m)\n",
    "generar_marker('La Rioja').add_to(m)\n",
    "generar_marker('Mendoza').add_to(m)\n",
    "generar_marker('Misiones').add_to(m)\n",
    "generar_marker('Neuquén').add_to(m)\n",
    "generar_marker('Río Negro').add_to(m)\n",
    "generar_marker('Salta').add_to(m)\n",
    "generar_marker('San Juan').add_to(m)\n",
    "generar_marker('San Luis').add_to(m)\n",
    "generar_marker('Santa Cruz').add_to(m)\n",
    "generar_marker('Santa Fe').add_to(m)\n",
    "generar_marker('Santiago del Estero').add_to(m)\n",
    "generar_marker('Tierra del Fuego').add_to(m)\n",
    "generar_marker('Tucumán').add_to(m)"
   ]
  },
  {
   "cell_type": "code",
   "execution_count": null,
   "id": "b5e29884",
   "metadata": {},
   "outputs": [],
   "source": [
    "style_function = lambda x: {'fillColor': '#ffffff', \n",
    "                            'color':'#000000', \n",
    "                            'fillOpacity': 0.1, \n",
    "                            'weight': 0.1}\n",
    "highlight_function = lambda x: {'fillColor': '#000000', \n",
    "                                'color':'#000000', \n",
    "                                'fillOpacity': 0.50, \n",
    "                                'weight': 0.1}\n",
    "datos = folium.features.GeoJson(\n",
    "                    data=df_definitivo,\n",
    "                    \n",
    "                    style_function=style_function, \n",
    "                    control=False,\n",
    "                    highlight_function=highlight_function,\n",
    "                    tooltip=folium.features.GeoJsonTooltip(\n",
    "                        fields=['Provincia',\n",
    "                                'Nro_de_centrales',\n",
    "                                'Población_2020',\n",
    "                                'Consumo_total_por_población_provincia_GW'\n",
    "                               ],\n",
    "                        aliases=['Provincia',\n",
    "                                'Nro de centrales',\n",
    "                                'Población 2020',\n",
    "                                 'Consumo total por población provincia GW'\n",
    "                                ], \n",
    "                        \n",
    "                        style=(\"background-color: white; color: #333333; font-family: arial; font-size: 12px; padding: 10px;\")))\n",
    "\n",
    "\n",
    "\n",
    "m.add_child(datos)"
   ]
  },
  {
   "cell_type": "code",
   "execution_count": null,
   "id": "a68e12a5",
   "metadata": {},
   "outputs": [],
   "source": []
  }
 ],
 "metadata": {
  "kernelspec": {
   "display_name": "Python 3 (ipykernel)",
   "language": "python",
   "name": "python3"
  },
  "language_info": {
   "codemirror_mode": {
    "name": "ipython",
    "version": 3
   },
   "file_extension": ".py",
   "mimetype": "text/x-python",
   "name": "python",
   "nbconvert_exporter": "python",
   "pygments_lexer": "ipython3",
   "version": "3.8.6"
  },
  "toc": {
   "base_numbering": 1,
   "nav_menu": {},
   "number_sections": true,
   "sideBar": true,
   "skip_h1_title": false,
   "title_cell": "Table of Contents",
   "title_sidebar": "Contents",
   "toc_cell": false,
   "toc_position": {},
   "toc_section_display": true,
   "toc_window_display": false
  }
 },
 "nbformat": 4,
 "nbformat_minor": 5
}
